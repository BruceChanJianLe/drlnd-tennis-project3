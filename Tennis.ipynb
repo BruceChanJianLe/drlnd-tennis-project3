{
 "cells": [
  {
   "cell_type": "markdown",
   "metadata": {},
   "source": [
    "# Collaboration and Competition\n",
    "\n",
    "---\n",
    "\n",
    "You are welcome to use this coding environment to train your agent for the project.  Follow the instructions below to get started!\n",
    "\n",
    "### 1. Start the Environment\n",
    "\n",
    "Run the next code cell to install a few packages.  This line will take a few minutes to run!"
   ]
  },
  {
   "cell_type": "code",
   "execution_count": 1,
   "metadata": {},
   "outputs": [],
   "source": [
    "!pip -q install ./python"
   ]
  },
  {
   "cell_type": "markdown",
   "metadata": {},
   "source": [
    "Set the vm_ variable according to your need."
   ]
  },
  {
   "cell_type": "code",
   "execution_count": 2,
   "metadata": {},
   "outputs": [
    {
     "name": "stderr",
     "output_type": "stream",
     "text": [
      "INFO:unityagents:\n",
      "'Academy' started successfully!\n",
      "Unity Academy name: Academy\n",
      "        Number of Brains: 1\n",
      "        Number of External Brains : 1\n",
      "        Lesson number : 0\n",
      "        Reset Parameters :\n",
      "\t\t\n",
      "Unity brain name: TennisBrain\n",
      "        Number of Visual Observations (per agent): 0\n",
      "        Vector Observation space type: continuous\n",
      "        Vector Observation space size (per agent): 8\n",
      "        Number of stacked Vector Observation: 3\n",
      "        Vector Action space type: continuous\n",
      "        Vector Action space size (per agent): 2\n",
      "        Vector Action descriptions: , \n"
     ]
    }
   ],
   "source": [
    "from unityagents import UnityEnvironment\n",
    "import numpy as np\n",
    "\n",
    "vm_ = False\n",
    "if vm_:\n",
    "    env = UnityEnvironment(file_name=\"/data/Tennis_Linux_NoVis/Tennis\")\n",
    "else:\n",
    "    env = UnityEnvironment(file_name=\"data/Tennis_Linux_NoVis/Tennis\")"
   ]
  },
  {
   "cell_type": "markdown",
   "metadata": {},
   "source": [
    "Environments contain **_brains_** which are responsible for deciding the actions of their associated agents. Here we check for the first brain available, and set it as the default brain we will be controlling from Python."
   ]
  },
  {
   "cell_type": "code",
   "execution_count": 3,
   "metadata": {},
   "outputs": [],
   "source": [
    "# get the default brain\n",
    "brain_name = env.brain_names[0]\n",
    "brain = env.brains[brain_name]"
   ]
  },
  {
   "cell_type": "markdown",
   "metadata": {},
   "source": [
    "### 2. Examine the State and Action Spaces\n",
    "\n",
    "Run the code cell below to print some information about the environment."
   ]
  },
  {
   "cell_type": "code",
   "execution_count": 4,
   "metadata": {},
   "outputs": [
    {
     "name": "stdout",
     "output_type": "stream",
     "text": [
      "Number of agents: 2\n",
      "Size of each action: 2\n",
      "There are 2 agents. Each observes a state with length: 24\n",
      "The state for the first agent looks like: [ 0.          0.          0.          0.          0.          0.\n",
      "  0.          0.          0.          0.          0.          0.\n",
      "  0.          0.          0.          0.         -6.65278625 -1.5\n",
      " -0.          0.          6.83172083  6.         -0.          0.        ]\n"
     ]
    }
   ],
   "source": [
    "# reset the environment\n",
    "env_info = env.reset(train_mode=True)[brain_name]\n",
    "\n",
    "# number of agents \n",
    "num_agents = len(env_info.agents)\n",
    "print('Number of agents:', num_agents)\n",
    "\n",
    "# size of each action\n",
    "action_size = brain.vector_action_space_size\n",
    "print('Size of each action:', action_size)\n",
    "\n",
    "# examine the state space \n",
    "states = env_info.vector_observations\n",
    "state_size = states.shape[1]\n",
    "print('There are {} agents. Each observes a state with length: {}'.format(states.shape[0], state_size))\n",
    "print('The state for the first agent looks like:', states[0])\n",
    "\n",
    "# Useful Functions\n",
    "\n",
    "def act(env, actions, brain_name=\"TennisBrain\") -> tuple:\n",
    "    \"\"\"Sends actions to the environment env and observes the results.\n",
    "    Returns a tuple of rewards, next_states, dones (One per agent)\"\"\"\n",
    "    action_result = env.step(actions)[brain_name] # Act on the environment and observe the result\n",
    "    return (action_result.rewards,\n",
    "            action_result.vector_observations, # next states\n",
    "            action_result.local_done) # True if the episode ended\n",
    "    \n",
    "def reset(env, training=True, brain_name=\"TennisBrain\") -> np.ndarray:\n",
    "    \"\"\"Resetting the unity environment\"\"\"\n",
    "    return env.reset(train_mode=training)[brain_name].vector_observations"
   ]
  },
  {
   "cell_type": "markdown",
   "metadata": {},
   "source": [
    "### 3. Ready for training\n",
    "\n",
    "In the next code cell, you will learn how to use the Python API to control the agent and receive feedback from the environment.\n",
    "\n",
    "Note that **in this coding environment, you will not be able to watch the agents while they are training**, and you should set `train_mode=True` to restart the environment."
   ]
  },
  {
   "cell_type": "code",
   "execution_count": 5,
   "metadata": {},
   "outputs": [],
   "source": [
    "# Invite our agent & import torch\n",
    "from ddpg_agent import Agent\n",
    "from ddpg_buffer import ReplayBuffer\n",
    "import torch\n",
    "import random\n",
    "\n",
    "# Training params\n",
    "random_seed = random.randint(0, 1e6)\n",
    "\n",
    "# Define Training variable\n",
    "BUFFER_SIZE = int(1e6)  # replay buffer size\n",
    "BATCH_SIZE = 300        # minibatch size\n",
    "# print(random_seed)"
   ]
  },
  {
   "cell_type": "code",
   "execution_count": 6,
   "metadata": {},
   "outputs": [],
   "source": [
    "def train(agents, buffer, env, num_episodes, log_freq, max_t=20000, profiling=False, profiler=None): \n",
    "    \"\"\"Train agents to solve the environemnt env.\n",
    "    \n",
    "    Params\n",
    "    ======\n",
    "    agents (List of ddpg_agent.Agent): The MADDPG agents to be trained\n",
    "    buffer (buffer.ReplayBuffer): The experience replay buffer shared by all agents\n",
    "    env: The unity environment\n",
    "    num_episodes (int): The maximum number of episodes that the training will run\n",
    "    log_freq (int): Print progress report each log_freq episodes\n",
    "    max_t (int): The maximum number of time steps per episode\n",
    "    profiling (bool): Whether to profile execution time\n",
    "    profiler (cProfile.Profile): The profiler to be used during profiling\n",
    "    \"\"\"\n",
    "    # Preparations\n",
    "    score_hist = []\n",
    "    if profiling: \n",
    "        profile.enable()\n",
    "    \n",
    "    # Train\n",
    "    for i in range(num_episodes):\n",
    "        states = reset(env)\n",
    "        scores = np.zeros(num_agents)\n",
    "        if i > 0:\n",
    "            for agent in agents:\n",
    "                # Decrease noise amplitude\n",
    "                agent.ounoise.decay_step()\n",
    "            \n",
    "        for j in range(max_t):         \n",
    "            \n",
    "            # Each agent decides its action based on its own observation\n",
    "            assert len(states) == len(agents), 'size mismatch'\n",
    "            actions = np.vstack([agent.decide(np.expand_dims(state, 0)) for agent, state in zip(agents, states)])\n",
    "                \n",
    "            # Send the actions to the environment\n",
    "            rewards, next_states, dones = act(env, actions)     \n",
    "            scores += rewards\n",
    "            \n",
    "            # Save to buffer\n",
    "            buffer.add(states, actions, rewards, next_states, dones)\n",
    "            \n",
    "            # Update in mini-batches\n",
    "            if len(buffer) >= BATCH_SIZE:\n",
    "                for agent_number, agent in enumerate(agents):\n",
    "                    # Sample experiences *separately* for each agent\n",
    "                    experiences = buffer.sample(BATCH_SIZE) # Returns (states, actions, rewards, next_states, dones)\n",
    "            \n",
    "                    # To update each agent, besides the info in experiences, we need...\n",
    "                    # ... The actions that all target actors take observing states s'\n",
    "                    assert len(experiences[3]) == len(agents), 'size mismatch' # experiences[3]: next_states\n",
    "                    next_actions = [a.decide(s, use_target=True, as_tensor=True, autograd=False, add_noise=False)\n",
    "                                    for a, s in zip(agents, experiences[3])]\n",
    "            \n",
    "                    # ... The actions that all local actors take observing states s\n",
    "                    assert len(experiences[0]) == len(agents), 'size mismatch' # experiences[0]: states\n",
    "                    current_actions = [a.decide(s, use_target=False, as_tensor=True, autograd=True, add_noise=False)\n",
    "                                       for a, s in zip(agents, experiences[0])]\n",
    "                    \n",
    "                    # Finally apply the update\n",
    "                    agent.learn(experiences, next_actions, current_actions, agent_number)\n",
    "\n",
    "            # Step\n",
    "            states = next_states # roll over states to next time step\n",
    "            if np.any(dones): # exit loop if episode finished\n",
    "                break \n",
    "                \n",
    "        # Logging\n",
    "        score_hist.append(max(scores))\n",
    "        if (i % log_freq == 0) and (i > 0):\n",
    "            print(f'Avg. score episodes {i-log_freq}-{i}: {np.mean(score_hist[-log_freq:])}')\n",
    "        \n",
    "        if np.mean(score_hist[-100:]) >= .5:\n",
    "            print(f'Solved in {i} steps!')\n",
    "            break\n",
    "\n",
    "    if profiling: \n",
    "        profile.disable()\n",
    "        \n",
    "    return np.array(score_hist)"
   ]
  },
  {
   "cell_type": "markdown",
   "metadata": {},
   "source": [
    "Train now!"
   ]
  },
  {
   "cell_type": "code",
   "execution_count": 7,
   "metadata": {},
   "outputs": [
    {
     "name": "stdout",
     "output_type": "stream",
     "text": [
      "Avg. score episodes 0-100: 0.0030000000447034836\n",
      "Avg. score episodes 100-200: 0.0\n",
      "Avg. score episodes 200-300: 0.0\n",
      "Avg. score episodes 300-400: 0.004000000059604645\n",
      "Avg. score episodes 400-500: 0.0010000000149011613\n",
      "Avg. score episodes 500-600: 0.0\n",
      "Avg. score episodes 600-700: 0.01160000018775463\n",
      "Avg. score episodes 700-800: 0.005400000102818012\n",
      "Avg. score episodes 800-900: 0.010400000177323818\n",
      "Avg. score episodes 900-1000: 0.013800000213086605\n",
      "Avg. score episodes 1000-1100: 0.016900000255554916\n",
      "Avg. score episodes 1100-1200: 0.019000000339001417\n",
      "Avg. score episodes 1200-1300: 0.05570000087842345\n",
      "Avg. score episodes 1300-1400: 0.08970000138506293\n",
      "Avg. score episodes 1400-1500: 0.0874000014550984\n",
      "Avg. score episodes 1500-1600: 0.09460000153630972\n",
      "Avg. score episodes 1600-1700: 0.09550000155344605\n",
      "Avg. score episodes 1700-1800: 0.09940000161528588\n",
      "Avg. score episodes 1800-1900: 0.09910000154748559\n",
      "Avg. score episodes 1900-2000: 0.09910000151023268\n",
      "Avg. score episodes 2000-2100: 0.1382000020891428\n",
      "Avg. score episodes 2100-2200: 0.1508000022917986\n",
      "Avg. score episodes 2200-2300: 0.31980000477284193\n",
      "Avg. score episodes 2300-2400: 0.38430000575259327\n",
      "Solved in 2428 steps!\n"
     ]
    }
   ],
   "source": [
    "\n",
    "buffer = ReplayBuffer(BUFFER_SIZE, num_agents, True)\n",
    "agents = [Agent(state_size=state_size, \n",
    "                action_size=action_size, \n",
    "                num_agents=num_agents, \n",
    "                noise_theta  = 1,\n",
    "                noise_sigma = .35,\n",
    "                noise_decay_rate = .999,\n",
    "                random_seed=random_seed) for agent in ('A', 'B')]\n",
    "\n",
    "score_hist = train(agents, buffer, env, num_episodes=8000, log_freq=100)"
   ]
  },
  {
   "cell_type": "markdown",
   "metadata": {},
   "source": [
    "When finished, you can close the environment."
   ]
  },
  {
   "cell_type": "code",
   "execution_count": 8,
   "metadata": {},
   "outputs": [],
   "source": [
    "env.close()"
   ]
  },
  {
   "cell_type": "markdown",
   "metadata": {},
   "source": [
    "## Plot"
   ]
  },
  {
   "cell_type": "code",
   "execution_count": 9,
   "metadata": {},
   "outputs": [],
   "source": [
    "from matplotlib import pyplot as plt"
   ]
  },
  {
   "cell_type": "code",
   "execution_count": 10,
   "metadata": {},
   "outputs": [],
   "source": [
    "def moving_average(signal:np.ndarray , period: int):\n",
    "    buffer = [np.nan] * period\n",
    "    for i in range(period,len(signal)):\n",
    "        buffer.append(signal[i-period:i].mean())\n",
    "    return np.array(buffer)"
   ]
  },
  {
   "cell_type": "code",
   "execution_count": 14,
   "metadata": {},
   "outputs": [
    {
     "data": {
      "text/plain": [
       "(0.0, 3000.0)"
      ]
     },
     "execution_count": 14,
     "metadata": {},
     "output_type": "execute_result"
    },
    {
     "data": {
      "image/png": "[encoded data removed]",
      "text/plain": [
       "<Figure size 576x360 with 1 Axes>"
      ]
     },
     "metadata": {
      "needs_background": "light"
     },
     "output_type": "display_data"
    }
   ],
   "source": [
    "length = 100\n",
    "avg_scores = moving_average(score_hist, length)\n",
    "plt.figure(figsize=(8,5))\n",
    "plt.plot(avg_scores, label='avg_scores')\n",
    "plt.hlines(.5, xmin=0, xmax=3000, colors='r', label='solved')\n",
    "plt.grid()\n",
    "plt.xlabel('Episode')\n",
    "plt.ylabel('Avg. score')\n",
    "plt.title(f'Avg. score over {length} episodes')\n",
    "plt.legend(loc='upper left')\n",
    "plt.xlim((0, 3000))"
   ]
  },
  {
   "cell_type": "markdown",
   "metadata": {},
   "source": [
    "## Save My Weights"
   ]
  },
  {
   "cell_type": "code",
   "execution_count": 18,
   "metadata": {},
   "outputs": [],
   "source": [
    "from datetime import datetime\n",
    "def save_agent(agents, score_hist, avg_scores=None):\n",
    "    \"\"\"Saves the agent's parameters and the underlying pytorch model\"\"\"\n",
    "    checkpoint = {'score_hist': score_hist}\n",
    "    \n",
    "    for name, agent in zip(('A', 'B'), agents):\n",
    "        checkpoint[f'{name}_actor_state_dict'] = agent.actor_local.state_dict()\n",
    "        checkpoint[f'{name}_critic_state_dict'] = agent.critic_local.state_dict() \n",
    "            \n",
    "    torch.save(checkpoint, 'my_weights.pth')\n",
    "\n"
   ]
  },
  {
   "cell_type": "code",
   "execution_count": 19,
   "metadata": {},
   "outputs": [],
   "source": [
    "save_agent(agents, score_hist, avg_scores=avg_scores)"
   ]
  },
  {
   "cell_type": "markdown",
   "metadata": {},
   "source": [
    "### 4. It's Your Turn!\n",
    "\n",
    "Now it's your turn to train your own agent to solve the environment!  A few **important notes**:\n",
    "- When training the environment, set `train_mode=True`, so that the line for resetting the environment looks like the following:\n",
    "```python\n",
    "env_info = env.reset(train_mode=True)[brain_name]\n",
    "```\n",
    "- To structure your work, you're welcome to work directly in this Jupyter notebook, or you might like to start over with a new file!  You can see the list of files in the workspace by clicking on **_Jupyter_** in the top left corner of the notebook.\n",
    "- In this coding environment, you will not be able to watch the agents while they are training.  However, **_after training the agents_**, you can download the saved model weights to watch the agents on your own machine! "
   ]
  },
  {
   "cell_type": "code",
   "execution_count": null,
   "metadata": {},
   "outputs": [],
   "source": []
  }
 ],
 "metadata": {
  "kernelspec": {
   "display_name": "drlnd",
   "language": "python",
   "name": "drlnd"
  },
  "language_info": {
   "codemirror_mode": {
    "name": "ipython",
    "version": 3
   },
   "file_extension": ".py",
   "mimetype": "text/x-python",
   "name": "python",
   "nbconvert_exporter": "python",
   "pygments_lexer": "ipython3",
   "version": "3.6.12"
  }
 },
 "nbformat": 4,
 "nbformat_minor": 2
}
